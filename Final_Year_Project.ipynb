{
 "cells": [
  {
   "cell_type": "markdown",
   "metadata": {},
   "source": [
    "## MULTI DOCUMENT TEXT SUMMARIZATION USING K-MEANS CLUSTERING ALGORITHM"
   ]
  },
  {
   "cell_type": "markdown",
   "metadata": {},
   "source": [
    "### 1. importing necessary libraries."
   ]
  },
  {
   "cell_type": "code",
   "execution_count": 2,
   "metadata": {},
   "outputs": [],
   "source": [
    "import math\n",
    "import numpy as np\n",
    "import pandas as pd\n",
    "\n",
    "from sklearn.feature_extraction.text import TfidfVectorizer\n",
    "from sklearn.cluster import KMeans\n",
    "\n",
    "from sklearn.decomposition import PCA\n",
    "import matplotlib.pyplot as plt"
   ]
  },
  {
   "cell_type": "markdown",
   "metadata": {},
   "source": [
    "### 2. Loading data & Text Preprocessing.."
   ]
  },
  {
   "cell_type": "markdown",
   "metadata": {},
   "source": [
    "* I have taken 8 articles on COVID from google search results, I have made them as my dataset.\n",
    "* while doing this project, I know little about Data Science, so I didn't thought of collecting or scraping data(more documents), more data will give good results."
   ]
  },
  {
   "cell_type": "code",
   "execution_count": 3,
   "metadata": {},
   "outputs": [
    {
     "name": "stdout",
     "output_type": "stream",
     "text": [
      "total sentences 289\n",
      "removed but added_sents :  [' Tosh, M', 'D Tosh, M', 'S', 'D', ', MD', 'P, MD', 'HP, MD', 'S', 'NS', ', RNS', 'N, RNS', '  ']\n",
      "total sentences now :  277\n"
     ]
    }
   ],
   "source": [
    "docs = []\n",
    "all_docs_content = \"\"\n",
    "# reading each file and extracting text content.\n",
    "for i in range(1, 9):\n",
    "    with open (\"docs/d\"+str(i)+\".txt\", \"r\") as myfile:\n",
    "        # Removing new_line_spaces\n",
    "        curr_doc = myfile.read().replace(\"\\n\", \"\")\n",
    "        docs.append(curr_doc)\n",
    "        all_docs_content += curr_doc\n",
    "\n",
    "#text_str = all_docs_content\n",
    "sentences = all_docs_content.split(\".\")\n",
    "print('total sentences', len(sentences))\n",
    "\n",
    "removed_and_added_sents = []\n",
    "sent_len = len(sentences)\n",
    "while i < sent_len:\n",
    "    if len(sentences[i]) < 10:\n",
    "        removed_and_added_sents.append(sentences[i])\n",
    "        if i == (len(sentences) - 1):\n",
    "            sentences[i-1] += sentences[i]\n",
    "            del sentences[i]\n",
    "            i = i-1\n",
    "        else:\n",
    "            sentences[i+1] += sentences[i]\n",
    "            del sentences[i]\n",
    "            i = i-1\n",
    "        sent_len = len(sentences)\n",
    "    i += 1\n",
    "print('removed but added_sents : ', removed_and_added_sents)\n",
    "print('total sentences now : ', len(sentences)) # sent_len"
   ]
  },
  {
   "cell_type": "markdown",
   "metadata": {},
   "source": [
    "* there is no need of multiple loops to recheck the smallest sentences.\n",
    "* the code internally loop back and add small sentences to big or average sentences and deletes the small sentences."
   ]
  },
  {
   "cell_type": "markdown",
   "metadata": {},
   "source": [
    "### 3. Featurization"
   ]
  },
  {
   "cell_type": "code",
   "execution_count": 4,
   "metadata": {},
   "outputs": [
    {
     "data": {
      "text/html": [
       "<div>\n",
       "<style scoped>\n",
       "    .dataframe tbody tr th:only-of-type {\n",
       "        vertical-align: middle;\n",
       "    }\n",
       "\n",
       "    .dataframe tbody tr th {\n",
       "        vertical-align: top;\n",
       "    }\n",
       "\n",
       "    .dataframe thead th {\n",
       "        text-align: right;\n",
       "    }\n",
       "</style>\n",
       "<table border=\"1\" class=\"dataframe\">\n",
       "  <thead>\n",
       "    <tr style=\"text-align: right;\">\n",
       "      <th></th>\n",
       "      <th>112</th>\n",
       "      <th>14</th>\n",
       "      <th>19</th>\n",
       "      <th>19how</th>\n",
       "      <th>20</th>\n",
       "      <th>2019</th>\n",
       "      <th>2019d</th>\n",
       "      <th>2020</th>\n",
       "      <th>48</th>\n",
       "      <th>60</th>\n",
       "      <th>...</th>\n",
       "      <th>workplace</th>\n",
       "      <th>workplacegood</th>\n",
       "      <th>world</th>\n",
       "      <th>worldwide</th>\n",
       "      <th>worn</th>\n",
       "      <th>worry</th>\n",
       "      <th>worrying</th>\n",
       "      <th>wuhan</th>\n",
       "      <th>year</th>\n",
       "      <th>young</th>\n",
       "    </tr>\n",
       "  </thead>\n",
       "  <tbody>\n",
       "    <tr>\n",
       "      <th>0</th>\n",
       "      <td>0.0</td>\n",
       "      <td>0.0</td>\n",
       "      <td>0.138974</td>\n",
       "      <td>0.0</td>\n",
       "      <td>0.0</td>\n",
       "      <td>0.0</td>\n",
       "      <td>0.0</td>\n",
       "      <td>0.0</td>\n",
       "      <td>0.0</td>\n",
       "      <td>0.0</td>\n",
       "      <td>...</td>\n",
       "      <td>0.0</td>\n",
       "      <td>0.0</td>\n",
       "      <td>0.0</td>\n",
       "      <td>0.0</td>\n",
       "      <td>0.0</td>\n",
       "      <td>0.0</td>\n",
       "      <td>0.0</td>\n",
       "      <td>0.0</td>\n",
       "      <td>0.0</td>\n",
       "      <td>0.0</td>\n",
       "    </tr>\n",
       "    <tr>\n",
       "      <th>1</th>\n",
       "      <td>0.0</td>\n",
       "      <td>0.0</td>\n",
       "      <td>0.000000</td>\n",
       "      <td>0.0</td>\n",
       "      <td>0.0</td>\n",
       "      <td>0.0</td>\n",
       "      <td>0.0</td>\n",
       "      <td>0.0</td>\n",
       "      <td>0.0</td>\n",
       "      <td>0.0</td>\n",
       "      <td>...</td>\n",
       "      <td>0.0</td>\n",
       "      <td>0.0</td>\n",
       "      <td>0.0</td>\n",
       "      <td>0.0</td>\n",
       "      <td>0.0</td>\n",
       "      <td>0.0</td>\n",
       "      <td>0.0</td>\n",
       "      <td>0.0</td>\n",
       "      <td>0.0</td>\n",
       "      <td>0.0</td>\n",
       "    </tr>\n",
       "    <tr>\n",
       "      <th>2</th>\n",
       "      <td>0.0</td>\n",
       "      <td>0.0</td>\n",
       "      <td>0.000000</td>\n",
       "      <td>0.0</td>\n",
       "      <td>0.0</td>\n",
       "      <td>0.0</td>\n",
       "      <td>0.0</td>\n",
       "      <td>0.0</td>\n",
       "      <td>0.0</td>\n",
       "      <td>0.0</td>\n",
       "      <td>...</td>\n",
       "      <td>0.0</td>\n",
       "      <td>0.0</td>\n",
       "      <td>0.0</td>\n",
       "      <td>0.0</td>\n",
       "      <td>0.0</td>\n",
       "      <td>0.0</td>\n",
       "      <td>0.0</td>\n",
       "      <td>0.0</td>\n",
       "      <td>0.0</td>\n",
       "      <td>0.0</td>\n",
       "    </tr>\n",
       "    <tr>\n",
       "      <th>3</th>\n",
       "      <td>0.0</td>\n",
       "      <td>0.0</td>\n",
       "      <td>0.000000</td>\n",
       "      <td>0.0</td>\n",
       "      <td>0.0</td>\n",
       "      <td>0.0</td>\n",
       "      <td>0.0</td>\n",
       "      <td>0.0</td>\n",
       "      <td>0.0</td>\n",
       "      <td>0.0</td>\n",
       "      <td>...</td>\n",
       "      <td>0.0</td>\n",
       "      <td>0.0</td>\n",
       "      <td>0.0</td>\n",
       "      <td>0.0</td>\n",
       "      <td>0.0</td>\n",
       "      <td>0.0</td>\n",
       "      <td>0.0</td>\n",
       "      <td>0.0</td>\n",
       "      <td>0.0</td>\n",
       "      <td>0.0</td>\n",
       "    </tr>\n",
       "    <tr>\n",
       "      <th>4</th>\n",
       "      <td>0.0</td>\n",
       "      <td>0.0</td>\n",
       "      <td>0.000000</td>\n",
       "      <td>0.0</td>\n",
       "      <td>0.0</td>\n",
       "      <td>0.0</td>\n",
       "      <td>0.0</td>\n",
       "      <td>0.0</td>\n",
       "      <td>0.0</td>\n",
       "      <td>0.0</td>\n",
       "      <td>...</td>\n",
       "      <td>0.0</td>\n",
       "      <td>0.0</td>\n",
       "      <td>0.0</td>\n",
       "      <td>0.0</td>\n",
       "      <td>0.0</td>\n",
       "      <td>0.0</td>\n",
       "      <td>0.0</td>\n",
       "      <td>0.0</td>\n",
       "      <td>0.0</td>\n",
       "      <td>0.0</td>\n",
       "    </tr>\n",
       "  </tbody>\n",
       "</table>\n",
       "<p>5 rows × 934 columns</p>\n",
       "</div>"
      ],
      "text/plain": [
       "   112   14        19  19how   20  2019  2019d  2020   48   60  ...  \\\n",
       "0  0.0  0.0  0.138974    0.0  0.0   0.0    0.0   0.0  0.0  0.0  ...   \n",
       "1  0.0  0.0  0.000000    0.0  0.0   0.0    0.0   0.0  0.0  0.0  ...   \n",
       "2  0.0  0.0  0.000000    0.0  0.0   0.0    0.0   0.0  0.0  0.0  ...   \n",
       "3  0.0  0.0  0.000000    0.0  0.0   0.0    0.0   0.0  0.0  0.0  ...   \n",
       "4  0.0  0.0  0.000000    0.0  0.0   0.0    0.0   0.0  0.0  0.0  ...   \n",
       "\n",
       "   workplace  workplacegood  world  worldwide  worn  worry  worrying  wuhan  \\\n",
       "0        0.0            0.0    0.0        0.0   0.0    0.0       0.0    0.0   \n",
       "1        0.0            0.0    0.0        0.0   0.0    0.0       0.0    0.0   \n",
       "2        0.0            0.0    0.0        0.0   0.0    0.0       0.0    0.0   \n",
       "3        0.0            0.0    0.0        0.0   0.0    0.0       0.0    0.0   \n",
       "4        0.0            0.0    0.0        0.0   0.0    0.0       0.0    0.0   \n",
       "\n",
       "   year  young  \n",
       "0   0.0    0.0  \n",
       "1   0.0    0.0  \n",
       "2   0.0    0.0  \n",
       "3   0.0    0.0  \n",
       "4   0.0    0.0  \n",
       "\n",
       "[5 rows x 934 columns]"
      ]
     },
     "execution_count": 4,
     "metadata": {},
     "output_type": "execute_result"
    }
   ],
   "source": [
    "# from sklearn.feature_extraction.text import TfidfVectorizer\n",
    "\n",
    "#tfidf is better compared to BoW (write a paragraph to prove)\n",
    "vec_tfidf = TfidfVectorizer(stop_words='english') #tokenizer=textblob_tokenizer, \n",
    "matrix_vec_tfidf = vec_tfidf.fit_transform(sentences)\n",
    "x = pd.DataFrame(matrix_vec_tfidf.toarray(), columns=vec_tfidf.get_feature_names())\n",
    "x.head()"
   ]
  },
  {
   "cell_type": "code",
   "execution_count": 5,
   "metadata": {},
   "outputs": [
    {
     "name": "stdout",
     "output_type": "stream",
     "text": [
      "## Summary based on TfIdf : sentences that have high tfidf score\n",
      "\n",
      "* You should only leave your home to: shop for essential food and household goods attend medical appointments, collect medicine or other health productscare for children, older people or other vulnerable people - this excludes social family visitsexercise outdoors - within 2 kilometres of your home, changing to 5 kilometres from 5 May - only with people from your own household, keeping 2 metres between you and other peopletravel to work if you provide an essential service - be sure to practice social distancingThere is separate advice about:restricting your movements if you live with someone who has symptoms, a confirmed case or has returned to Ireland from another countryself-isolating if you have symptoms of coronavirustaking extra care if you're in a high risk groupcocooning for people who are at very high risk (extremely vulnerable)Avoid non-essential travel overseas and follow the Department of Foreign Affairs travel advice\n",
      "\n",
      "* Wash your hands properly and oftenYou should wash your hands:after coughing or sneezingbefore and after eatingbefore and after preparing foodif you were in contact with someone who has a fever or respiratory symptoms (cough, shortness of breath, difficulty breathing)before and after being on public transport, if you must use itbefore and after being in a crowd (especially an indoor crowd)when you arrive and leave buildings including your home or anyone else's homeif you have handled animals or animal wastebefore having a cigarette or vapingif your hands are dirtyafter toilet useKeep your hands in good condition\n",
      "\n",
      "* The Right Way to Wash Your HandsKeep Sanitizer HandyIf you’re in a situation where you need to wash your hands but aren’t able to get to a sink—such as after you pump gas or touch a door to exit your apartment building—an alcohol-based hand sanitizer containing at least 60 percent alcohol is your next best option\n",
      "\n",
      "* ”In light of this designation — and as multiple nations around the world, including Europe, Asia, and Australia, try to contain the disease — governments, businesses, and organizations are attempting to limit contact by canceling large public gatherings to slow the spread of the novel coronavirus\n",
      "\n",
      "* Coronavirus FAQ: What You Need to Know About COVID-19How the Spread of Coronavirus Could Affect Your Travel PlansWhat to Know Now About Masks and CoronavirusCR's Guide to CoronavirusWhen should you wash your hands? At a minimum, do so after you use the bathroom, before you eat, and after you blow your nose, cough, or sneeze, according to the CDC\n",
      "\n",
      "*  With the flu still circulating widely in many states, cleaning your hands after being in crowded spaces or after touching surfaces in public areas makes sense, Goodman says, and “hand sanitizer is a good, portable way to meet that need\n",
      "\n",
      "* These efforts have included the closure of theme parks, such as Disneyland and Disney World; the suspension of seasons for professional sporting leagues, like the NBA and NHL; and the rescheduling or canceling of festivals like Coachella and tech conferences like E3\n",
      "\n",
      "* As the novel coronavirus continues to spread across the United States and the globe, the next fight to stop the disease it causes — COVID-19 — will occur at public gatherings from farmers markets to music festivals, and maybe even the 2020 Olympics\n"
     ]
    }
   ],
   "source": [
    "import numpy\n",
    "x_list = x.to_numpy().tolist()\n",
    "\n",
    "# calculating tfidf score of each setence and adding to a list\n",
    "tfidf_scores_of_each_sent = []\n",
    "for i in x_list:\n",
    "    summ = 0\n",
    "    for j in i:\n",
    "        summ += j\n",
    "    tfidf_scores_of_each_sent.append(summ)\n",
    "\n",
    "# adding tfidf value of sentence as key and sentence index as value(for sorting based on key)\n",
    "tfidf_sent_dict = {}\n",
    "for i in range(0, len(tfidf_scores_of_each_sent)):\n",
    "    tfidf_sent_dict[tfidf_scores_of_each_sent[i]] = i\n",
    "\n",
    "# sorting sentences based on tfidf values\n",
    "sorted_tfidf_sent_dict = sorted(tfidf_sent_dict.items())\n",
    "# storing top 8 values based on tfidf values. (8 is taken approximately : #docs)\n",
    "top_vals = []\n",
    "print('## Summary based on TfIdf : sentences that have high tfidf score')\n",
    "for i in range(len(sorted_tfidf_sent_dict)-1, len(sorted_tfidf_sent_dict)-9, -1):\n",
    "    print(\"\\n* {}\".format(sentences[sorted_tfidf_sent_dict[i][1]]))\n",
    "    top_vals.append(x_list[sorted_tfidf_sent_dict[i][1]])"
   ]
  },
  {
   "cell_type": "markdown",
   "metadata": {},
   "source": [
    "* TfIdf gave us important features where most of the sentences are big."
   ]
  },
  {
   "cell_type": "markdown",
   "metadata": {},
   "source": [
    "#### 3.1 Plotting the sentences and marking the top Tfidf valued sentences."
   ]
  },
  {
   "cell_type": "code",
   "execution_count": 6,
   "metadata": {},
   "outputs": [
    {
     "data": {
      "image/png": "[encoded data removed]",
      "text/plain": [
       "<Figure size 432x288 with 1 Axes>"
      ]
     },
     "metadata": {},
     "output_type": "display_data"
    }
   ],
   "source": [
    "pca = PCA(n_components=2, random_state=0)\n",
    "#reduce the features and cluster centers to 2D\n",
    "reduced_features = pca.fit_transform(x)\n",
    "reduced_vals = pca.transform(top_vals)\n",
    "\n",
    "plt.scatter(reduced_features[:,0], reduced_features[:,1])\n",
    "plt.scatter(reduced_vals[:, 0], reduced_vals[:,1], marker='x', s=150, c='r')\n",
    "plt.show()"
   ]
  },
  {
   "cell_type": "markdown",
   "metadata": {},
   "source": [
    "* The plot says which part of the region the sentence is selected, and no much info in it.\n",
    "* so, we can say that we should depend only on text importance.\n",
    "* to generate summary we should use better models. let's see.."
   ]
  },
  {
   "cell_type": "markdown",
   "metadata": {},
   "source": [
    "### 4 Using Kmeans Clustering algorithm on TfIdf vectorized data.."
   ]
  },
  {
   "cell_type": "code",
   "execution_count": 7,
   "metadata": {},
   "outputs": [],
   "source": [
    "from sklearn.cluster import KMeans\n",
    "from tqdm import tqdm"
   ]
  },
  {
   "cell_type": "markdown",
   "metadata": {},
   "source": [
    "* there are methods to choose 'k', but while doing this project I had less knowledge about it, so I have considered n = #docs"
   ]
  },
  {
   "cell_type": "code",
   "execution_count": 8,
   "metadata": {},
   "outputs": [
    {
     "data": {
      "text/plain": [
       "KMeans()"
      ]
     },
     "execution_count": 8,
     "metadata": {},
     "output_type": "execute_result"
    }
   ],
   "source": [
    "number_of_clusters = 8 # no.of docs..\n",
    "km = KMeans(n_clusters=number_of_clusters)\n",
    "km.fit(x)"
   ]
  },
  {
   "cell_type": "code",
   "execution_count": 9,
   "metadata": {},
   "outputs": [
    {
     "name": "stdout",
     "output_type": "stream",
     "text": [
      "\n",
      "## Summary for \"Protection from Corona Virus\" :\n",
      "\n",
      "0.  Some people have no symptoms\n",
      "\n",
      "1. Social distancing is important to help slow the spread of coronavirus\n",
      "\n",
      "2. Clean your hands properly before you put it on\n",
      "\n",
      "3. Cover your mouth and nose with your elbow or a tissue when you cough or sneeze\n",
      "\n",
      "4. Avoid touching your eyes, nose and mouth\n",
      "\n",
      "5.  Health officials have emphasized that wearing a mask isn't a substitute for staying home as much as possible and practicing social distancing\n",
      "\n",
      "6. What are the symptoms of COVID-19?COVID-19 symptoms can be very mild to severe\n",
      "\n",
      "7. Wash your hands often with soap and water for at least 20 seconds, or use an alcohol-based hand sanitizer that contains at least 60% alcohol\n"
     ]
    }
   ],
   "source": [
    "import numpy\n",
    "\n",
    "ldf = x.to_numpy().tolist()\n",
    "kc = km.cluster_centers_.tolist()\n",
    "\n",
    "print('\\n## Summary for \"Protection from Corona Virus\" :')\n",
    "ds = []\n",
    "for j in range(0, len(kc)):\n",
    "    ds = []\n",
    "    for i in range(0, len(ldf)):\n",
    "        if km.labels_[i] == j:\n",
    "            dist = numpy.linalg.norm(numpy.array(ldf[i]) - numpy.array(kc[j]))\n",
    "            if dist < 0 :\n",
    "                dist = -(dist)\n",
    "            ds.append(dist)\n",
    "        else:\n",
    "            ds.append(100)\n",
    "    print(\"\\n{}. {}\".format(j, sentences[ds.index(min(ds))])) # , ds.index(min(ds))"
   ]
  },
  {
   "cell_type": "markdown",
   "metadata": {},
   "source": [
    "* here the result doesn't depend on size of sentence."
   ]
  },
  {
   "cell_type": "markdown",
   "metadata": {},
   "source": [
    "#### 4.1 Plot : Marking Cluster centers on Data points"
   ]
  },
  {
   "cell_type": "code",
   "execution_count": 10,
   "metadata": {},
   "outputs": [
    {
     "data": {
      "image/png": "[encoded data removed]",
      "text/plain": [
       "<Figure size 432x288 with 1 Axes>"
      ]
     },
     "metadata": {},
     "output_type": "display_data"
    }
   ],
   "source": [
    "# len(km.labels_) #277\n",
    "pca = PCA(n_components=2, random_state=0)\n",
    "reduced_features = pca.fit_transform(x)\n",
    "\n",
    "# reduce the cluster centers to 2D\n",
    "reduced_cluster_centers = pca.transform(km.cluster_centers_)\n",
    "\n",
    "plt.scatter(reduced_features[:,0], reduced_features[:,1], c=km.predict(x))\n",
    "plt.scatter(reduced_cluster_centers[:, 0], reduced_cluster_centers[:,1], marker='x', s=150, c='b')\n",
    "plt.title(\"Marking Cluster centers on DataPoints\")\n",
    "plt.show()"
   ]
  },
  {
   "cell_type": "markdown",
   "metadata": {},
   "source": [
    "* Almost every region is covered, such that a sentence is selected from each region and all the sentences in summary differ on from other."
   ]
  }
 ],
 "metadata": {
  "kernelspec": {
   "display_name": "Python 3",
   "language": "python",
   "name": "python3"
  },
  "language_info": {
   "codemirror_mode": {
    "name": "ipython",
    "version": 3
   },
   "file_extension": ".py",
   "mimetype": "text/x-python",
   "name": "python",
   "nbconvert_exporter": "python",
   "pygments_lexer": "ipython3",
   "version": "3.6.5"
  }
 },
 "nbformat": 4,
 "nbformat_minor": 2
}
